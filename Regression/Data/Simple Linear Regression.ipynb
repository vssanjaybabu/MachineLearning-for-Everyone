{
 "cells": [
  {
   "cell_type": "markdown",
   "id": "f4db6018-100b-4dfd-89f6-a808df0341fe",
   "metadata": {},
   "source": [
    "# Simple Linear Regression\n",
    "\n",
    "## The Linear Model\n",
    "\n",
    "Simple linear regression models the relationship between two variables by fitting a linear equation to the observed data. The general form of this equation is:\n",
    "\n",
    "$$y = \\beta_0 + \\beta_1 x + \\epsilon$$\n",
    "\n",
    "Where:\n",
    "- $y$ is the dependent variable\n",
    "- $x$ is the independent variable\n",
    "- $\\beta_0$ is the y-intercept\n",
    "- $\\beta_1$ is the slope coefficient\n",
    "- $\\epsilon$ is the error term\n",
    "\n",
    "## Loss Function: Mean Squared Error\n",
    "\n",
    "The Mean Squared Error (MSE) is used to measure how well the model fits the data:\n",
    "\n",
    "$$MSE = \\frac{1}{n} \\sum_{i=1}^{n} (y_i - \\hat{y}_i)^2$$\n",
    "\n",
    "Where:\n",
    "- $n$ is the number of observations\n",
    "- $y_i$ is the actual value\n",
    "- $\\hat{y}_i$ is the predicted value ($\\hat{y}_i = \\beta_0 + \\beta_1 x_i$)\n",
    "\n",
    "## Parameter Estimation\n",
    "\n",
    "The optimal parameters are calculated using the Ordinary Least Squares (OLS) method:\n",
    "\n",
    "$$\\beta_1 = \\frac{\\sum_{i=1}^{n} (x_i - \\bar{x})(y_i - \\bar{y})}{\\sum_{i=1}^{n} (x_i - \\bar{x})^2}$$\n",
    "\n",
    "$$\\beta_0 = \\bar{y} - \\beta_1 \\bar{x}$$\n",
    "\n",
    "Where:\n",
    "- $\\bar{x}$ is the mean of the independent variable\n",
    "- $\\bar{y}$ is the mean of the dependent variable\n",
    "\n",
    "## Model Evaluation\n",
    "\n",
    "The coefficient of determination ($R^2$) measures the proportion of variance explained by the model:\n",
    "\n",
    "$$R^2 = 1 - \\frac{\\sum_{i=1}^{n} (y_i - \\hat{y}_i)^2}{\\sum_{i=1}^{n} (y_i - \\bar{y})^2}$$\n",
    "\n",
    "The Root Mean Squared Error (RMSE) provides an absolute measure of fit:\n",
    "\n",
    "$$RMSE = \\sqrt{\\frac{1}{n} \\sum_{i=1}^{n} (y_i - \\hat{y}_i)^2}$$"
   ]
  },
  {
   "cell_type": "code",
   "execution_count": 11,
   "id": "c1b9981b-9e45-4e1d-af7d-573672e3e855",
   "metadata": {},
   "outputs": [],
   "source": [
    "import numpy as np\n",
    "import pandas as pd"
   ]
  },
  {
   "cell_type": "code",
   "execution_count": null,
   "id": "ef94d286-22ce-4b42-bc85-02b3a681f208",
   "metadata": {},
   "outputs": [],
   "source": []
  }
 ],
 "metadata": {
  "kernelspec": {
   "display_name": "Python 3 (ipykernel)",
   "language": "python",
   "name": "python3"
  },
  "language_info": {
   "codemirror_mode": {
    "name": "ipython",
    "version": 3
   },
   "file_extension": ".py",
   "mimetype": "text/x-python",
   "name": "python",
   "nbconvert_exporter": "python",
   "pygments_lexer": "ipython3",
   "version": "3.12.7"
  }
 },
 "nbformat": 4,
 "nbformat_minor": 5
}
